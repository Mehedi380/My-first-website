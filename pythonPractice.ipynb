{
  "nbformat": 4,
  "nbformat_minor": 0,
  "metadata": {
    "colab": {
      "name": "pythonPractice.ipynb",
      "provenance": [],
      "authorship_tag": "ABX9TyPntg+7QJJf1Vvdpg5AGzI4",
      "include_colab_link": true
    },
    "kernelspec": {
      "name": "python3",
      "display_name": "Python 3"
    }
  },
  "cells": [
    {
      "cell_type": "markdown",
      "metadata": {
        "id": "view-in-github",
        "colab_type": "text"
      },
      "source": [
        "<a href=\"https://colab.research.google.com/github/Mehedi380/My-first-website/blob/main/pythonPractice.ipynb\" target=\"_parent\"><img src=\"https://colab.research.google.com/assets/colab-badge.svg\" alt=\"Open In Colab\"/></a>"
      ]
    },
    {
      "cell_type": "code",
      "metadata": {
        "colab": {
          "base_uri": "https://localhost:8080/"
        },
        "id": "ilAnwQx1jQJH",
        "outputId": "9be7ed6f-224d-4677-ad41-4ef45e17dff9"
      },
      "source": [
        "print(\"Hello Bangladesh\")"
      ],
      "execution_count": 4,
      "outputs": [
        {
          "output_type": "stream",
          "text": [
            "Hello Bangladesh\n"
          ],
          "name": "stdout"
        }
      ]
    },
    {
      "cell_type": "markdown",
      "metadata": {
        "id": "TksOafoym4-v"
      },
      "source": [
        ""
      ]
    },
    {
      "cell_type": "code",
      "metadata": {
        "colab": {
          "base_uri": "https://localhost:8080/"
        },
        "id": "o2qNie-rm5yn",
        "outputId": "46affde5-7407-4af7-906a-c9b0a63efdfc"
      },
      "source": [
        "print(\"name=Mehedi Hasan\")"
      ],
      "execution_count": 5,
      "outputs": [
        {
          "output_type": "stream",
          "text": [
            "name=Mehedi Hasan\n"
          ],
          "name": "stdout"
        }
      ]
    },
    {
      "cell_type": "code",
      "metadata": {
        "id": "_jt0DYV2m6wf"
      },
      "source": [
        ""
      ],
      "execution_count": 5,
      "outputs": []
    },
    {
      "cell_type": "markdown",
      "metadata": {
        "id": "wqmcPCrhoL13"
      },
      "source": [
        "Pythin Variables"
      ]
    },
    {
      "cell_type": "code",
      "metadata": {
        "id": "Nzv3AyenoP9d"
      },
      "source": [
        "n=30\r\n",
        "f=25.34"
      ],
      "execution_count": 6,
      "outputs": []
    },
    {
      "cell_type": "code",
      "metadata": {
        "id": "TrpUREZ3oZS3"
      },
      "source": [
        "str =\"hello\""
      ],
      "execution_count": 7,
      "outputs": []
    },
    {
      "cell_type": "code",
      "metadata": {
        "colab": {
          "base_uri": "https://localhost:8080/"
        },
        "id": "KcrLZDPko6Il",
        "outputId": "895b0ffe-37c2-480b-b72c-17eb84570acf"
      },
      "source": [
        "type(f)"
      ],
      "execution_count": 8,
      "outputs": [
        {
          "output_type": "execute_result",
          "data": {
            "text/plain": [
              "float"
            ]
          },
          "metadata": {
            "tags": []
          },
          "execution_count": 8
        }
      ]
    },
    {
      "cell_type": "markdown",
      "metadata": {
        "id": "AzgHlnMgpDvt"
      },
      "source": [
        "Python collection types"
      ]
    },
    {
      "cell_type": "code",
      "metadata": {
        "colab": {
          "base_uri": "https://localhost:8080/"
        },
        "id": "p0LIfHhrpJVN",
        "outputId": "a143434d-6f91-498b-cd0c-bbd4cd56f3bd"
      },
      "source": [
        "#list\r\n",
        "myList = [3,5,10, \"Mehedi\", 45.445]\r\n",
        "print(myList)"
      ],
      "execution_count": 11,
      "outputs": [
        {
          "output_type": "stream",
          "text": [
            "[3, 5, 10, 'Mehedi', 45.445]\n"
          ],
          "name": "stdout"
        }
      ]
    },
    {
      "cell_type": "code",
      "metadata": {
        "colab": {
          "base_uri": "https://localhost:8080/"
        },
        "id": "4nmLFh3SpjlI",
        "outputId": "86574df4-4671-4492-f17c-76696eb5a753"
      },
      "source": [
        "#dictionary\r\n",
        "myDictinary = {\"Mehedi\" : 400, \"Hasan\" : 300}\r\n",
        "print(myDictinary[\"Hasan\"])"
      ],
      "execution_count": 13,
      "outputs": [
        {
          "output_type": "stream",
          "text": [
            "300\n"
          ],
          "name": "stdout"
        }
      ]
    }
  ]
}